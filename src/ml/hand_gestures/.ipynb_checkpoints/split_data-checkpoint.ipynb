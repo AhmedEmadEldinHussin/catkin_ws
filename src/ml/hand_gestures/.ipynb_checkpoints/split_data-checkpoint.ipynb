{
 "cells": [
  {
   "cell_type": "code",
   "execution_count": 1,
   "id": "62ec9ba4",
   "metadata": {},
   "outputs": [],
   "source": [
    "import os"
   ]
  },
  {
   "cell_type": "code",
   "execution_count": 2,
   "id": "96561258",
   "metadata": {},
   "outputs": [],
   "source": [
    "dataset = \"./dataset/\""
   ]
  },
  {
   "cell_type": "code",
   "execution_count": 4,
   "id": "610778d1",
   "metadata": {},
   "outputs": [],
   "source": [
    "os.makedirs(\"./data/\")\n",
    "os.makedirs(\"./data/train\")\n",
    "os.makedirs(\"./data/val\")\n",
    "os.makedirs(\"./data/test\")"
   ]
  },
  {
   "cell_type": "code",
   "execution_count": 5,
   "id": "c8b63cad",
   "metadata": {},
   "outputs": [],
   "source": [
    "for i in range(4):\n",
    "    os.makedirs(\"./data/train/\"+str(i))\n",
    "    os.makedirs(\"./data/val/\"+str(i))\n",
    "    os.makedirs(\"./data/test/\"+str(i))"
   ]
  },
  {
   "cell_type": "code",
   "execution_count": 7,
   "id": "20f688c5",
   "metadata": {},
   "outputs": [],
   "source": [
    "cls0 = os.listdir(\"dataset/0\")\n",
    "cls1 = os.listdir(\"dataset/1\")\n",
    "cls2 = os.listdir(\"dataset/2\")\n",
    "cls3 = os.listdir(\"dataset/3\")"
   ]
  },
  {
   "cell_type": "code",
   "execution_count": 8,
   "id": "b8b90298",
   "metadata": {},
   "outputs": [],
   "source": [
    "from sklearn.model_selection import train_test_split"
   ]
  },
  {
   "cell_type": "code",
   "execution_count": 12,
   "id": "193b4713",
   "metadata": {},
   "outputs": [],
   "source": [
    "import shutil"
   ]
  },
  {
   "cell_type": "code",
   "execution_count": 17,
   "id": "aad6b009",
   "metadata": {},
   "outputs": [],
   "source": [
    "train , val = train_test_split(cls0,test_size=0.5,random_state=0)\n",
    "val , test = train_test_split(val,test_size=0.5,random_state=0)\n",
    "for file in train:\n",
    "    shutil.copy(\"./dataset/0/\"+str(file),\"data/train/0/\")\n",
    "\n",
    "for file in val:\n",
    "    shutil.copy(\"./dataset/0/\"+str(file),\"data/val/0/\")\n",
    "\n",
    "for file in test:\n",
    "    shutil.copy(\"./dataset/0/\"+str(file),\"data/test/0/\")"
   ]
  },
  {
   "cell_type": "code",
   "execution_count": 18,
   "id": "6292f5de",
   "metadata": {},
   "outputs": [],
   "source": [
    "train , val = train_test_split(cls1,test_size=0.5,random_state=0)\n",
    "val , test = train_test_split(val,test_size=0.5,random_state=0)\n",
    "for file in train:\n",
    "    shutil.copy(\"./dataset/1/\"+str(file),\"data/train/1/\")\n",
    "\n",
    "for file in val:\n",
    "    shutil.copy(\"./dataset/1/\"+str(file),\"data/val/1/\")\n",
    "\n",
    "for file in test:\n",
    "    shutil.copy(\"./dataset/1/\"+str(file),\"data/test/1/\")"
   ]
  },
  {
   "cell_type": "code",
   "execution_count": 19,
   "id": "404158bc",
   "metadata": {},
   "outputs": [],
   "source": [
    "train , val = train_test_split(cls2,test_size=0.5,random_state=0)\n",
    "val , test = train_test_split(val,test_size=0.5,random_state=0)\n",
    "for file in train:\n",
    "    shutil.copy(\"./dataset/2/\"+str(file),\"data/train/2/\")\n",
    "\n",
    "for file in val:\n",
    "    shutil.copy(\"./dataset/2/\"+str(file),\"data/val/2/\")\n",
    "\n",
    "for file in test:\n",
    "    shutil.copy(\"./dataset/2/\"+str(file),\"data/test/2/\")"
   ]
  },
  {
   "cell_type": "code",
   "execution_count": 20,
   "id": "2ac7061d",
   "metadata": {},
   "outputs": [],
   "source": [
    "train , val = train_test_split(cls3,test_size=0.5,random_state=0)\n",
    "val , test = train_test_split(val,test_size=0.5,random_state=0)\n",
    "for file in train:\n",
    "    shutil.copy(\"./dataset/3/\"+str(file),\"data/train/3/\")\n",
    "\n",
    "for file in val:\n",
    "    shutil.copy(\"./dataset/3/\"+str(file),\"data/val/3/\")\n",
    "\n",
    "for file in test:\n",
    "    shutil.copy(\"./dataset/3/\"+str(file),\"data/test/3/\")"
   ]
  },
  {
   "cell_type": "code",
   "execution_count": null,
   "id": "d7097c8d",
   "metadata": {},
   "outputs": [],
   "source": []
  },
  {
   "cell_type": "code",
   "execution_count": null,
   "id": "4cedc2c9",
   "metadata": {},
   "outputs": [],
   "source": []
  },
  {
   "cell_type": "code",
   "execution_count": null,
   "id": "e37652e9",
   "metadata": {},
   "outputs": [],
   "source": []
  }
 ],
 "metadata": {
  "kernelspec": {
   "display_name": "Python 3 (ipykernel)",
   "language": "python",
   "name": "python3"
  },
  "language_info": {
   "codemirror_mode": {
    "name": "ipython",
    "version": 3
   },
   "file_extension": ".py",
   "mimetype": "text/x-python",
   "name": "python",
   "nbconvert_exporter": "python",
   "pygments_lexer": "ipython3",
   "version": "3.10.6"
  }
 },
 "nbformat": 4,
 "nbformat_minor": 5
}
