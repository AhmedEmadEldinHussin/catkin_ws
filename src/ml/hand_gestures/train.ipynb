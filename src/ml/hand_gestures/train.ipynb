{
 "cells": [
  {
   "cell_type": "code",
   "execution_count": 1,
   "id": "2f0606d9",
   "metadata": {},
   "outputs": [
    {
     "name": "stderr",
     "output_type": "stream",
     "text": [
      "2022-11-17 17:38:14.594615: I tensorflow/core/platform/cpu_feature_guard.cc:193] This TensorFlow binary is optimized with oneAPI Deep Neural Network Library (oneDNN) to use the following CPU instructions in performance-critical operations:  AVX2 FMA\n",
      "To enable them in other operations, rebuild TensorFlow with the appropriate compiler flags.\n",
      "2022-11-17 17:38:14.705528: E tensorflow/stream_executor/cuda/cuda_blas.cc:2981] Unable to register cuBLAS factory: Attempting to register factory for plugin cuBLAS when one has already been registered\n",
      "2022-11-17 17:38:15.181392: W tensorflow/stream_executor/platform/default/dso_loader.cc:64] Could not load dynamic library 'libnvinfer.so.7'; dlerror: libnvinfer.so.7: cannot open shared object file: No such file or directory; LD_LIBRARY_PATH: /opt/ros/noetic/lib:/usr/local/cuda/lib64::/usr/local/cuda/lib64\n",
      "2022-11-17 17:38:15.181443: W tensorflow/stream_executor/platform/default/dso_loader.cc:64] Could not load dynamic library 'libnvinfer_plugin.so.7'; dlerror: libnvinfer_plugin.so.7: cannot open shared object file: No such file or directory; LD_LIBRARY_PATH: /opt/ros/noetic/lib:/usr/local/cuda/lib64::/usr/local/cuda/lib64\n",
      "2022-11-17 17:38:15.181450: W tensorflow/compiler/tf2tensorrt/utils/py_utils.cc:38] TF-TRT Warning: Cannot dlopen some TensorRT libraries. If you would like to use Nvidia GPU with TensorRT, please make sure the missing libraries mentioned above are installed properly.\n"
     ]
    }
   ],
   "source": [
    "import tensorflow as tf\n",
    "from tensorflow import keras\n",
    "from model import build_model\n",
    "import numpy \n",
    "import cv2\n",
    "import matplotlib.pyplot as plt"
   ]
  },
  {
   "cell_type": "code",
   "execution_count": 2,
   "id": "e7fe2d02",
   "metadata": {},
   "outputs": [],
   "source": [
    "IMAGE_SIZE = (128,128)\n",
    "BATCH_SIZE = 64"
   ]
  },
  {
   "cell_type": "code",
   "execution_count": 3,
   "id": "a07a188e",
   "metadata": {},
   "outputs": [
    {
     "name": "stderr",
     "output_type": "stream",
     "text": [
      "2022-11-17 17:38:15.994764: I tensorflow/stream_executor/cuda/cuda_gpu_executor.cc:980] successful NUMA node read from SysFS had negative value (-1), but there must be at least one NUMA node, so returning NUMA node zero\n",
      "2022-11-17 17:38:16.011884: I tensorflow/stream_executor/cuda/cuda_gpu_executor.cc:980] successful NUMA node read from SysFS had negative value (-1), but there must be at least one NUMA node, so returning NUMA node zero\n",
      "2022-11-17 17:38:16.012061: I tensorflow/stream_executor/cuda/cuda_gpu_executor.cc:980] successful NUMA node read from SysFS had negative value (-1), but there must be at least one NUMA node, so returning NUMA node zero\n"
     ]
    }
   ],
   "source": [
    "physical_devices = tf.config.list_physical_devices('GPU')\n",
    "for device in physical_devices:\n",
    "    tf.config.experimental.set_memory_growth(device, True)"
   ]
  },
  {
   "cell_type": "code",
   "execution_count": 4,
   "id": "714b75a7",
   "metadata": {},
   "outputs": [],
   "source": [
    "training_data_path = './data/train/'\n",
    "test_data_path = \"./data/val/\""
   ]
  },
  {
   "cell_type": "code",
   "execution_count": 5,
   "id": "5bee9d44",
   "metadata": {},
   "outputs": [
    {
     "name": "stderr",
     "output_type": "stream",
     "text": [
      "2022-11-17 17:38:16.038247: I tensorflow/core/platform/cpu_feature_guard.cc:193] This TensorFlow binary is optimized with oneAPI Deep Neural Network Library (oneDNN) to use the following CPU instructions in performance-critical operations:  AVX2 FMA\n",
      "To enable them in other operations, rebuild TensorFlow with the appropriate compiler flags.\n"
     ]
    },
    {
     "name": "stdout",
     "output_type": "stream",
     "text": [
      "Found 411 files belonging to 4 classes.\n",
      "Found 204 files belonging to 4 classes.\n"
     ]
    },
    {
     "name": "stderr",
     "output_type": "stream",
     "text": [
      "2022-11-17 17:38:16.038715: I tensorflow/stream_executor/cuda/cuda_gpu_executor.cc:980] successful NUMA node read from SysFS had negative value (-1), but there must be at least one NUMA node, so returning NUMA node zero\n",
      "2022-11-17 17:38:16.038856: I tensorflow/stream_executor/cuda/cuda_gpu_executor.cc:980] successful NUMA node read from SysFS had negative value (-1), but there must be at least one NUMA node, so returning NUMA node zero\n",
      "2022-11-17 17:38:16.038948: I tensorflow/stream_executor/cuda/cuda_gpu_executor.cc:980] successful NUMA node read from SysFS had negative value (-1), but there must be at least one NUMA node, so returning NUMA node zero\n",
      "2022-11-17 17:38:16.416852: I tensorflow/stream_executor/cuda/cuda_gpu_executor.cc:980] successful NUMA node read from SysFS had negative value (-1), but there must be at least one NUMA node, so returning NUMA node zero\n",
      "2022-11-17 17:38:16.417002: I tensorflow/stream_executor/cuda/cuda_gpu_executor.cc:980] successful NUMA node read from SysFS had negative value (-1), but there must be at least one NUMA node, so returning NUMA node zero\n",
      "2022-11-17 17:38:16.417110: I tensorflow/stream_executor/cuda/cuda_gpu_executor.cc:980] successful NUMA node read from SysFS had negative value (-1), but there must be at least one NUMA node, so returning NUMA node zero\n",
      "2022-11-17 17:38:16.417201: I tensorflow/core/common_runtime/gpu/gpu_device.cc:1616] Created device /job:localhost/replica:0/task:0/device:GPU:0 with 1374 MB memory:  -> device: 0, name: NVIDIA GeForce RTX 3080 Laptop GPU, pci bus id: 0000:01:00.0, compute capability: 8.6\n",
      "/home/ahmed/anaconda3/envs/tf/lib/python3.9/site-packages/tensorflow/python/data/ops/structured_function.py:264: UserWarning: Even though the `tf.config.experimental_run_functions_eagerly` option is set, this option does not apply to tf.data functions. To force eager execution of tf.data functions, please use `tf.data.experimental.enable_debug_mode()`.\n",
      "  warnings.warn(\n"
     ]
    }
   ],
   "source": [
    "train_ds = tf.keras.utils.image_dataset_from_directory(\n",
    "  training_data_path,\n",
    "  seed=123,\n",
    "  image_size=IMAGE_SIZE,\n",
    "  batch_size=BATCH_SIZE)\n",
    "\n",
    "\n",
    "val_ds = tf.keras.utils.image_dataset_from_directory(\n",
    "  test_data_path,\n",
    "  seed=123,\n",
    "  image_size=IMAGE_SIZE,\n",
    "  batch_size=BATCH_SIZE)\n"
   ]
  },
  {
   "cell_type": "code",
   "execution_count": 6,
   "id": "fa671e1b",
   "metadata": {},
   "outputs": [
    {
     "data": {
      "text/plain": [
       "['0', '1', '2', '3']"
      ]
     },
     "execution_count": 6,
     "metadata": {},
     "output_type": "execute_result"
    }
   ],
   "source": [
    "train_ds.class_names"
   ]
  },
  {
   "cell_type": "code",
   "execution_count": 7,
   "id": "f0b3a503",
   "metadata": {},
   "outputs": [],
   "source": [
    "model = build_model((128,128,3))"
   ]
  },
  {
   "cell_type": "code",
   "execution_count": 8,
   "id": "4d3a81a6",
   "metadata": {},
   "outputs": [
    {
     "name": "stdout",
     "output_type": "stream",
     "text": [
      "Model: \"model\"\n",
      "_________________________________________________________________\n",
      " Layer (type)                Output Shape              Param #   \n",
      "=================================================================\n",
      " input_1 (InputLayer)        [(None, 128, 128, 3)]     0         \n",
      "                                                                 \n",
      " conv2d (Conv2D)             (None, 128, 128, 32)      896       \n",
      "                                                                 \n",
      " batch_normalization (BatchN  (None, 128, 128, 32)     128       \n",
      " ormalization)                                                   \n",
      "                                                                 \n",
      " activation (Activation)     (None, 128, 128, 32)      0         \n",
      "                                                                 \n",
      " max_pooling2d (MaxPooling2D  (None, 64, 64, 32)       0         \n",
      " )                                                               \n",
      "                                                                 \n",
      " conv2d_1 (Conv2D)           (None, 64, 64, 64)        18496     \n",
      "                                                                 \n",
      " batch_normalization_1 (Batc  (None, 64, 64, 64)       256       \n",
      " hNormalization)                                                 \n",
      "                                                                 \n",
      " activation_1 (Activation)   (None, 64, 64, 64)        0         \n",
      "                                                                 \n",
      " max_pooling2d_1 (MaxPooling  (None, 32, 32, 64)       0         \n",
      " 2D)                                                             \n",
      "                                                                 \n",
      " conv2d_2 (Conv2D)           (None, 32, 32, 128)       73856     \n",
      "                                                                 \n",
      " batch_normalization_2 (Batc  (None, 32, 32, 128)      512       \n",
      " hNormalization)                                                 \n",
      "                                                                 \n",
      " activation_2 (Activation)   (None, 32, 32, 128)       0         \n",
      "                                                                 \n",
      " max_pooling2d_2 (MaxPooling  (None, 16, 16, 128)      0         \n",
      " 2D)                                                             \n",
      "                                                                 \n",
      " conv2d_3 (Conv2D)           (None, 16, 16, 256)       295168    \n",
      "                                                                 \n",
      " batch_normalization_3 (Batc  (None, 16, 16, 256)      1024      \n",
      " hNormalization)                                                 \n",
      "                                                                 \n",
      " activation_3 (Activation)   (None, 16, 16, 256)       0         \n",
      "                                                                 \n",
      " max_pooling2d_3 (MaxPooling  (None, 8, 8, 256)        0         \n",
      " 2D)                                                             \n",
      "                                                                 \n",
      " average_pooling2d (AverageP  (None, 4, 4, 256)        0         \n",
      " ooling2D)                                                       \n",
      "                                                                 \n",
      " flatten (Flatten)           (None, 4096)              0         \n",
      "                                                                 \n",
      " dense (Dense)               (None, 256)               1048832   \n",
      "                                                                 \n",
      " batch_normalization_4 (Batc  (None, 256)              1024      \n",
      " hNormalization)                                                 \n",
      "                                                                 \n",
      " activation_4 (Activation)   (None, 256)               0         \n",
      "                                                                 \n",
      " dropout (Dropout)           (None, 256)               0         \n",
      "                                                                 \n",
      " dense_1 (Dense)             (None, 128)               32896     \n",
      "                                                                 \n",
      " batch_normalization_5 (Batc  (None, 128)              512       \n",
      " hNormalization)                                                 \n",
      "                                                                 \n",
      " activation_5 (Activation)   (None, 128)               0         \n",
      "                                                                 \n",
      " dropout_1 (Dropout)         (None, 128)               0         \n",
      "                                                                 \n",
      " dense_2 (Dense)             (None, 64)                8256      \n",
      "                                                                 \n",
      " batch_normalization_6 (Batc  (None, 64)               256       \n",
      " hNormalization)                                                 \n",
      "                                                                 \n",
      " activation_6 (Activation)   (None, 64)                0         \n",
      "                                                                 \n",
      " dropout_2 (Dropout)         (None, 64)                0         \n",
      "                                                                 \n",
      " dense_3 (Dense)             (None, 4)                 260       \n",
      "                                                                 \n",
      "=================================================================\n",
      "Total params: 1,482,372\n",
      "Trainable params: 1,480,516\n",
      "Non-trainable params: 1,856\n",
      "_________________________________________________________________\n"
     ]
    }
   ],
   "source": [
    "model.summary()"
   ]
  },
  {
   "cell_type": "code",
   "execution_count": 9,
   "id": "fc38b8dc",
   "metadata": {},
   "outputs": [],
   "source": [
    "lr_schedule = keras.optimizers.schedules.ExponentialDecay(\n",
    "    initial_learning_rate=1e-2,\n",
    "    decay_steps=10,\n",
    "    decay_rate=0.9)"
   ]
  },
  {
   "cell_type": "code",
   "execution_count": 10,
   "id": "9d5c9ec1",
   "metadata": {},
   "outputs": [],
   "source": [
    "optimizer = tf.keras.optimizers.Adam(learning_rate=lr_schedule)\n",
    "loss = tf.keras.losses.SparseCategoricalCrossentropy(from_logits=True)\n",
    "metrics = ['accuracy']\n",
    "model.compile(optimizer = optimizer , loss = loss , metrics=metrics)"
   ]
  },
  {
   "cell_type": "code",
   "execution_count": 11,
   "id": "251f3b5b",
   "metadata": {},
   "outputs": [],
   "source": [
    "model_checkpoint_callback = tf.keras.callbacks.ModelCheckpoint(\n",
    "    filepath=\"./checkpoints\",\n",
    "    save_weights_only=True,\n",
    "    monitor='val_accuracy',\n",
    "    mode='max',\n",
    "    save_best_only=True)\n"
   ]
  },
  {
   "cell_type": "code",
   "execution_count": 14,
   "id": "d46c3811",
   "metadata": {},
   "outputs": [
    {
     "name": "stdout",
     "output_type": "stream",
     "text": [
      "Epoch 1/200\n"
     ]
    },
    {
     "name": "stderr",
     "output_type": "stream",
     "text": [
      "2022-11-17 17:38:57.676605: I tensorflow/stream_executor/cuda/cuda_dnn.cc:384] Loaded cuDNN version 8600\n",
      "2022-11-17 17:38:58.199817: I tensorflow/stream_executor/cuda/cuda_blas.cc:1614] TensorFloat-32 will be used for the matrix multiplication. This will only be logged once.\n"
     ]
    },
    {
     "name": "stdout",
     "output_type": "stream",
     "text": [
      "7/7 [==============================] - 3s 138ms/step - loss: 1.2416 - accuracy: 0.4964 - val_loss: 10828.8516 - val_accuracy: 0.2500\n",
      "Epoch 2/200\n",
      "7/7 [==============================] - 1s 72ms/step - loss: 0.6575 - accuracy: 0.7372 - val_loss: 9270.9795 - val_accuracy: 0.2451\n",
      "Epoch 3/200\n",
      "7/7 [==============================] - 0s 69ms/step - loss: 0.4060 - accuracy: 0.8759 - val_loss: 3596.3135 - val_accuracy: 0.2108\n",
      "Epoch 4/200\n",
      "7/7 [==============================] - 1s 78ms/step - loss: 0.2637 - accuracy: 0.9294 - val_loss: 1711.1819 - val_accuracy: 0.2059\n",
      "Epoch 5/200\n",
      "7/7 [==============================] - 1s 70ms/step - loss: 0.2102 - accuracy: 0.9367 - val_loss: 1028.5726 - val_accuracy: 0.2255\n",
      "Epoch 6/200\n",
      "7/7 [==============================] - 0s 69ms/step - loss: 0.2048 - accuracy: 0.9513 - val_loss: 605.4528 - val_accuracy: 0.1912\n",
      "Epoch 7/200\n",
      "7/7 [==============================] - 0s 69ms/step - loss: 0.1439 - accuracy: 0.9586 - val_loss: 320.0960 - val_accuracy: 0.2108\n",
      "Epoch 8/200\n",
      "7/7 [==============================] - 1s 86ms/step - loss: 0.1032 - accuracy: 0.9830 - val_loss: 246.8094 - val_accuracy: 0.2696\n",
      "Epoch 9/200\n",
      "7/7 [==============================] - 0s 69ms/step - loss: 0.1137 - accuracy: 0.9659 - val_loss: 166.0586 - val_accuracy: 0.2500\n",
      "Epoch 10/200\n",
      "7/7 [==============================] - 0s 69ms/step - loss: 0.0724 - accuracy: 0.9805 - val_loss: 141.9430 - val_accuracy: 0.2500\n",
      "Epoch 11/200\n",
      "7/7 [==============================] - 0s 69ms/step - loss: 0.0672 - accuracy: 0.9878 - val_loss: 101.2088 - val_accuracy: 0.2500\n",
      "Epoch 12/200\n",
      "7/7 [==============================] - 1s 73ms/step - loss: 0.0667 - accuracy: 0.9878 - val_loss: 63.8641 - val_accuracy: 0.2549\n",
      "Epoch 13/200\n",
      "7/7 [==============================] - 0s 69ms/step - loss: 0.0472 - accuracy: 0.9878 - val_loss: 38.9750 - val_accuracy: 0.2598\n",
      "Epoch 14/200\n",
      "7/7 [==============================] - 0s 70ms/step - loss: 0.0557 - accuracy: 0.9878 - val_loss: 38.5779 - val_accuracy: 0.2647\n",
      "Epoch 15/200\n",
      "7/7 [==============================] - 1s 75ms/step - loss: 0.0381 - accuracy: 0.9927 - val_loss: 36.5830 - val_accuracy: 0.2647\n",
      "Epoch 16/200\n",
      "7/7 [==============================] - 1s 79ms/step - loss: 0.0359 - accuracy: 0.9927 - val_loss: 27.7422 - val_accuracy: 0.2598\n",
      "Epoch 17/200\n",
      "7/7 [==============================] - 0s 69ms/step - loss: 0.0163 - accuracy: 1.0000 - val_loss: 19.7562 - val_accuracy: 0.2696\n",
      "Epoch 18/200\n",
      "7/7 [==============================] - 1s 86ms/step - loss: 0.0463 - accuracy: 0.9854 - val_loss: 11.9611 - val_accuracy: 0.3039\n",
      "Epoch 19/200\n",
      "7/7 [==============================] - 1s 81ms/step - loss: 0.0240 - accuracy: 0.9976 - val_loss: 9.4382 - val_accuracy: 0.3333\n",
      "Epoch 20/200\n",
      "7/7 [==============================] - 1s 88ms/step - loss: 0.0272 - accuracy: 0.9927 - val_loss: 6.8127 - val_accuracy: 0.3873\n",
      "Epoch 21/200\n",
      "7/7 [==============================] - 1s 80ms/step - loss: 0.0192 - accuracy: 0.9951 - val_loss: 4.6131 - val_accuracy: 0.4657\n",
      "Epoch 22/200\n",
      "7/7 [==============================] - 1s 79ms/step - loss: 0.0253 - accuracy: 0.9903 - val_loss: 2.6268 - val_accuracy: 0.5343\n",
      "Epoch 23/200\n",
      "7/7 [==============================] - 1s 84ms/step - loss: 0.0202 - accuracy: 0.9976 - val_loss: 1.2100 - val_accuracy: 0.6324\n",
      "Epoch 24/200\n",
      "7/7 [==============================] - 1s 78ms/step - loss: 0.0235 - accuracy: 0.9976 - val_loss: 0.4506 - val_accuracy: 0.8529\n",
      "Epoch 25/200\n",
      "7/7 [==============================] - 1s 79ms/step - loss: 0.0211 - accuracy: 0.9927 - val_loss: 0.1940 - val_accuracy: 0.9265\n",
      "Epoch 26/200\n",
      "7/7 [==============================] - 1s 79ms/step - loss: 0.0402 - accuracy: 0.9878 - val_loss: 0.0848 - val_accuracy: 0.9804\n",
      "Epoch 27/200\n",
      "7/7 [==============================] - 1s 79ms/step - loss: 0.0122 - accuracy: 1.0000 - val_loss: 0.0707 - val_accuracy: 0.9853\n",
      "Epoch 28/200\n",
      "7/7 [==============================] - 0s 69ms/step - loss: 0.0213 - accuracy: 0.9951 - val_loss: 0.0668 - val_accuracy: 0.9853\n",
      "Epoch 29/200\n",
      "7/7 [==============================] - 0s 69ms/step - loss: 0.0187 - accuracy: 0.9976 - val_loss: 0.0673 - val_accuracy: 0.9804\n",
      "Epoch 30/200\n",
      "7/7 [==============================] - 0s 69ms/step - loss: 0.0101 - accuracy: 1.0000 - val_loss: 0.0733 - val_accuracy: 0.9853\n",
      "Epoch 31/200\n",
      "7/7 [==============================] - 0s 69ms/step - loss: 0.0169 - accuracy: 1.0000 - val_loss: 0.0754 - val_accuracy: 0.9853\n",
      "Epoch 32/200\n",
      "7/7 [==============================] - 0s 69ms/step - loss: 0.0150 - accuracy: 0.9976 - val_loss: 0.0742 - val_accuracy: 0.9853\n",
      "Epoch 33/200\n",
      "7/7 [==============================] - 0s 69ms/step - loss: 0.0169 - accuracy: 0.9951 - val_loss: 0.0674 - val_accuracy: 0.9853\n",
      "Epoch 34/200\n",
      "7/7 [==============================] - 1s 70ms/step - loss: 0.0150 - accuracy: 1.0000 - val_loss: 0.0659 - val_accuracy: 0.9853\n",
      "Epoch 35/200\n",
      "7/7 [==============================] - 0s 69ms/step - loss: 0.0176 - accuracy: 0.9976 - val_loss: 0.0659 - val_accuracy: 0.9853\n",
      "Epoch 36/200\n",
      "7/7 [==============================] - 1s 77ms/step - loss: 0.0169 - accuracy: 0.9976 - val_loss: 0.0628 - val_accuracy: 0.9853\n",
      "Epoch 37/200\n",
      "7/7 [==============================] - 1s 71ms/step - loss: 0.0133 - accuracy: 0.9976 - val_loss: 0.0626 - val_accuracy: 0.9853\n",
      "Epoch 38/200\n",
      "7/7 [==============================] - 1s 72ms/step - loss: 0.0096 - accuracy: 1.0000 - val_loss: 0.0675 - val_accuracy: 0.9804\n",
      "Epoch 39/200\n",
      "7/7 [==============================] - 1s 73ms/step - loss: 0.0145 - accuracy: 1.0000 - val_loss: 0.0722 - val_accuracy: 0.9804\n",
      "Epoch 40/200\n",
      "7/7 [==============================] - 0s 70ms/step - loss: 0.0120 - accuracy: 0.9976 - val_loss: 0.0708 - val_accuracy: 0.9804\n",
      "Epoch 41/200\n",
      "7/7 [==============================] - 1s 71ms/step - loss: 0.0092 - accuracy: 1.0000 - val_loss: 0.0671 - val_accuracy: 0.9804\n",
      "Epoch 42/200\n",
      "7/7 [==============================] - 1s 75ms/step - loss: 0.0108 - accuracy: 1.0000 - val_loss: 0.0663 - val_accuracy: 0.9853\n",
      "Epoch 43/200\n",
      "7/7 [==============================] - 1s 73ms/step - loss: 0.0086 - accuracy: 1.0000 - val_loss: 0.0655 - val_accuracy: 0.9853\n",
      "Epoch 44/200\n",
      "7/7 [==============================] - 0s 69ms/step - loss: 0.0118 - accuracy: 1.0000 - val_loss: 0.0640 - val_accuracy: 0.9853\n",
      "Epoch 45/200\n",
      "7/7 [==============================] - 1s 72ms/step - loss: 0.0079 - accuracy: 1.0000 - val_loss: 0.0628 - val_accuracy: 0.9853\n",
      "Epoch 46/200\n",
      "7/7 [==============================] - 0s 69ms/step - loss: 0.0219 - accuracy: 0.9927 - val_loss: 0.0630 - val_accuracy: 0.9853\n",
      "Epoch 47/200\n",
      "7/7 [==============================] - 0s 69ms/step - loss: 0.0145 - accuracy: 0.9976 - val_loss: 0.0638 - val_accuracy: 0.9853\n",
      "Epoch 48/200\n",
      "7/7 [==============================] - 1s 75ms/step - loss: 0.0110 - accuracy: 0.9976 - val_loss: 0.0638 - val_accuracy: 0.9853\n",
      "Epoch 49/200\n",
      "7/7 [==============================] - 1s 72ms/step - loss: 0.0116 - accuracy: 1.0000 - val_loss: 0.0639 - val_accuracy: 0.9853\n",
      "Epoch 50/200\n",
      "7/7 [==============================] - 0s 69ms/step - loss: 0.0156 - accuracy: 1.0000 - val_loss: 0.0646 - val_accuracy: 0.9853\n",
      "Epoch 51/200\n",
      "7/7 [==============================] - 1s 71ms/step - loss: 0.0176 - accuracy: 0.9951 - val_loss: 0.0638 - val_accuracy: 0.9853\n",
      "Epoch 52/200\n",
      "7/7 [==============================] - 1s 71ms/step - loss: 0.0147 - accuracy: 1.0000 - val_loss: 0.0648 - val_accuracy: 0.9853\n",
      "Epoch 53/200\n",
      "7/7 [==============================] - 0s 70ms/step - loss: 0.0109 - accuracy: 1.0000 - val_loss: 0.0715 - val_accuracy: 0.9804\n",
      "Epoch 54/200\n",
      "7/7 [==============================] - 1s 76ms/step - loss: 0.0151 - accuracy: 0.9976 - val_loss: 0.0737 - val_accuracy: 0.9804\n",
      "Epoch 55/200\n",
      "7/7 [==============================] - 0s 68ms/step - loss: 0.0204 - accuracy: 0.9927 - val_loss: 0.0723 - val_accuracy: 0.9804\n",
      "Epoch 56/200\n",
      "7/7 [==============================] - 0s 69ms/step - loss: 0.0121 - accuracy: 0.9976 - val_loss: 0.0760 - val_accuracy: 0.9804\n",
      "Epoch 57/200\n",
      "7/7 [==============================] - 1s 71ms/step - loss: 0.0167 - accuracy: 0.9976 - val_loss: 0.0764 - val_accuracy: 0.9853\n",
      "Epoch 58/200\n",
      "7/7 [==============================] - 0s 70ms/step - loss: 0.0120 - accuracy: 0.9976 - val_loss: 0.0782 - val_accuracy: 0.9853\n"
     ]
    },
    {
     "name": "stdout",
     "output_type": "stream",
     "text": [
      "Epoch 59/200\n",
      "7/7 [==============================] - 1s 71ms/step - loss: 0.0157 - accuracy: 1.0000 - val_loss: 0.0790 - val_accuracy: 0.9853\n",
      "Epoch 60/200\n",
      "7/7 [==============================] - 1s 71ms/step - loss: 0.0240 - accuracy: 0.9951 - val_loss: 0.0781 - val_accuracy: 0.9853\n",
      "Epoch 61/200\n",
      "7/7 [==============================] - 1s 79ms/step - loss: 0.0192 - accuracy: 0.9976 - val_loss: 0.0772 - val_accuracy: 0.9804\n",
      "Epoch 62/200\n",
      "7/7 [==============================] - 1s 72ms/step - loss: 0.0121 - accuracy: 1.0000 - val_loss: 0.0766 - val_accuracy: 0.9804\n",
      "Epoch 63/200\n",
      "7/7 [==============================] - 1s 71ms/step - loss: 0.0103 - accuracy: 1.0000 - val_loss: 0.0753 - val_accuracy: 0.9804\n",
      "Epoch 64/200\n",
      "7/7 [==============================] - 0s 70ms/step - loss: 0.0070 - accuracy: 1.0000 - val_loss: 0.0741 - val_accuracy: 0.9804\n",
      "Epoch 65/200\n",
      "7/7 [==============================] - 1s 71ms/step - loss: 0.0176 - accuracy: 0.9976 - val_loss: 0.0729 - val_accuracy: 0.9804\n",
      "Epoch 66/200\n",
      "7/7 [==============================] - 1s 71ms/step - loss: 0.0293 - accuracy: 0.9903 - val_loss: 0.0725 - val_accuracy: 0.9804\n",
      "Epoch 67/200\n",
      "7/7 [==============================] - 1s 71ms/step - loss: 0.0063 - accuracy: 1.0000 - val_loss: 0.0724 - val_accuracy: 0.9804\n",
      "Epoch 68/200\n",
      "7/7 [==============================] - 1s 71ms/step - loss: 0.0091 - accuracy: 1.0000 - val_loss: 0.0722 - val_accuracy: 0.9804\n",
      "Epoch 69/200\n",
      "7/7 [==============================] - 1s 71ms/step - loss: 0.0060 - accuracy: 1.0000 - val_loss: 0.0721 - val_accuracy: 0.9804\n",
      "Epoch 70/200\n",
      "7/7 [==============================] - 1s 72ms/step - loss: 0.0111 - accuracy: 0.9976 - val_loss: 0.0714 - val_accuracy: 0.9804\n",
      "Epoch 71/200\n",
      "7/7 [==============================] - 0s 71ms/step - loss: 0.0135 - accuracy: 0.9976 - val_loss: 0.0708 - val_accuracy: 0.9804\n",
      "Epoch 72/200\n",
      "7/7 [==============================] - 1s 70ms/step - loss: 0.0084 - accuracy: 1.0000 - val_loss: 0.0704 - val_accuracy: 0.9804\n",
      "Epoch 73/200\n",
      "7/7 [==============================] - 1s 71ms/step - loss: 0.0179 - accuracy: 0.9951 - val_loss: 0.0703 - val_accuracy: 0.9804\n",
      "Epoch 74/200\n",
      "7/7 [==============================] - 1s 71ms/step - loss: 0.0181 - accuracy: 0.9951 - val_loss: 0.0687 - val_accuracy: 0.9804\n",
      "Epoch 75/200\n",
      "7/7 [==============================] - 1s 71ms/step - loss: 0.0107 - accuracy: 1.0000 - val_loss: 0.0677 - val_accuracy: 0.9804\n",
      "Epoch 76/200\n",
      "7/7 [==============================] - 1s 73ms/step - loss: 0.0071 - accuracy: 1.0000 - val_loss: 0.0670 - val_accuracy: 0.9853\n",
      "Epoch 77/200\n",
      "7/7 [==============================] - 1s 72ms/step - loss: 0.0271 - accuracy: 0.9951 - val_loss: 0.0665 - val_accuracy: 0.9853\n",
      "Epoch 78/200\n",
      "7/7 [==============================] - 1s 71ms/step - loss: 0.0186 - accuracy: 0.9976 - val_loss: 0.0669 - val_accuracy: 0.9853\n",
      "Epoch 79/200\n",
      "7/7 [==============================] - 0s 69ms/step - loss: 0.0081 - accuracy: 1.0000 - val_loss: 0.0671 - val_accuracy: 0.9853\n",
      "Epoch 80/200\n",
      "7/7 [==============================] - 1s 71ms/step - loss: 0.0155 - accuracy: 0.9976 - val_loss: 0.0670 - val_accuracy: 0.9853\n",
      "Epoch 81/200\n",
      "7/7 [==============================] - 1s 71ms/step - loss: 0.0156 - accuracy: 0.9976 - val_loss: 0.0664 - val_accuracy: 0.9853\n",
      "Epoch 82/200\n",
      "7/7 [==============================] - 0s 69ms/step - loss: 0.0085 - accuracy: 1.0000 - val_loss: 0.0657 - val_accuracy: 0.9853\n",
      "Epoch 83/200\n",
      "7/7 [==============================] - 0s 70ms/step - loss: 0.0092 - accuracy: 1.0000 - val_loss: 0.0651 - val_accuracy: 0.9853\n",
      "Epoch 84/200\n",
      "7/7 [==============================] - 0s 70ms/step - loss: 0.0116 - accuracy: 0.9976 - val_loss: 0.0643 - val_accuracy: 0.9853\n",
      "Epoch 85/200\n",
      "7/7 [==============================] - 1s 94ms/step - loss: 0.0085 - accuracy: 1.0000 - val_loss: 0.0641 - val_accuracy: 0.9902\n",
      "Epoch 86/200\n",
      "7/7 [==============================] - 1s 74ms/step - loss: 0.0069 - accuracy: 1.0000 - val_loss: 0.0638 - val_accuracy: 0.9902\n",
      "Epoch 87/200\n",
      "7/7 [==============================] - 1s 77ms/step - loss: 0.0084 - accuracy: 1.0000 - val_loss: 0.0634 - val_accuracy: 0.9902\n",
      "Epoch 88/200\n",
      "7/7 [==============================] - 1s 73ms/step - loss: 0.0117 - accuracy: 0.9976 - val_loss: 0.0630 - val_accuracy: 0.9902\n",
      "Epoch 89/200\n",
      "7/7 [==============================] - 1s 73ms/step - loss: 0.0103 - accuracy: 0.9976 - val_loss: 0.0626 - val_accuracy: 0.9902\n",
      "Epoch 90/200\n",
      "7/7 [==============================] - 1s 74ms/step - loss: 0.0119 - accuracy: 0.9976 - val_loss: 0.0624 - val_accuracy: 0.9902\n",
      "Epoch 91/200\n",
      "7/7 [==============================] - 1s 75ms/step - loss: 0.0068 - accuracy: 1.0000 - val_loss: 0.0623 - val_accuracy: 0.9902\n",
      "Epoch 92/200\n",
      "7/7 [==============================] - 1s 73ms/step - loss: 0.0139 - accuracy: 0.9976 - val_loss: 0.0623 - val_accuracy: 0.9902\n",
      "Epoch 93/200\n",
      "7/7 [==============================] - 1s 73ms/step - loss: 0.0115 - accuracy: 0.9976 - val_loss: 0.0618 - val_accuracy: 0.9902\n",
      "Epoch 94/200\n",
      "7/7 [==============================] - 1s 74ms/step - loss: 0.0099 - accuracy: 1.0000 - val_loss: 0.0616 - val_accuracy: 0.9902\n",
      "Epoch 95/200\n",
      "7/7 [==============================] - 1s 73ms/step - loss: 0.0087 - accuracy: 1.0000 - val_loss: 0.0614 - val_accuracy: 0.9902\n",
      "Epoch 96/200\n",
      "7/7 [==============================] - 1s 72ms/step - loss: 0.0096 - accuracy: 1.0000 - val_loss: 0.0616 - val_accuracy: 0.9902\n",
      "Epoch 97/200\n",
      "7/7 [==============================] - 0s 70ms/step - loss: 0.0090 - accuracy: 1.0000 - val_loss: 0.0614 - val_accuracy: 0.9902\n",
      "Epoch 98/200\n",
      "7/7 [==============================] - 1s 72ms/step - loss: 0.0142 - accuracy: 1.0000 - val_loss: 0.0615 - val_accuracy: 0.9902\n",
      "Epoch 99/200\n",
      "7/7 [==============================] - 1s 72ms/step - loss: 0.0139 - accuracy: 1.0000 - val_loss: 0.0618 - val_accuracy: 0.9902\n",
      "Epoch 100/200\n",
      "7/7 [==============================] - 1s 74ms/step - loss: 0.0186 - accuracy: 0.9951 - val_loss: 0.0616 - val_accuracy: 0.9902\n",
      "Epoch 101/200\n",
      "7/7 [==============================] - 1s 77ms/step - loss: 0.0102 - accuracy: 0.9976 - val_loss: 0.0615 - val_accuracy: 0.9902\n",
      "Epoch 102/200\n",
      "7/7 [==============================] - 1s 72ms/step - loss: 0.0146 - accuracy: 0.9976 - val_loss: 0.0618 - val_accuracy: 0.9902\n",
      "Epoch 103/200\n",
      "7/7 [==============================] - 1s 72ms/step - loss: 0.0089 - accuracy: 1.0000 - val_loss: 0.0618 - val_accuracy: 0.9902\n",
      "Epoch 104/200\n",
      "7/7 [==============================] - 1s 75ms/step - loss: 0.0082 - accuracy: 1.0000 - val_loss: 0.0618 - val_accuracy: 0.9902\n",
      "Epoch 105/200\n",
      "7/7 [==============================] - 1s 77ms/step - loss: 0.0125 - accuracy: 1.0000 - val_loss: 0.0620 - val_accuracy: 0.9902\n",
      "Epoch 106/200\n",
      "7/7 [==============================] - 1s 73ms/step - loss: 0.0065 - accuracy: 1.0000 - val_loss: 0.0617 - val_accuracy: 0.9902\n",
      "Epoch 107/200\n",
      "7/7 [==============================] - 1s 71ms/step - loss: 0.0126 - accuracy: 1.0000 - val_loss: 0.0615 - val_accuracy: 0.9902\n",
      "Epoch 108/200\n",
      "7/7 [==============================] - 1s 71ms/step - loss: 0.0075 - accuracy: 1.0000 - val_loss: 0.0613 - val_accuracy: 0.9902\n",
      "Epoch 109/200\n",
      "7/7 [==============================] - 1s 72ms/step - loss: 0.0109 - accuracy: 1.0000 - val_loss: 0.0612 - val_accuracy: 0.9902\n",
      "Epoch 110/200\n",
      "7/7 [==============================] - 1s 73ms/step - loss: 0.0188 - accuracy: 0.9976 - val_loss: 0.0613 - val_accuracy: 0.9902\n",
      "Epoch 111/200\n",
      "7/7 [==============================] - 1s 72ms/step - loss: 0.0089 - accuracy: 1.0000 - val_loss: 0.0613 - val_accuracy: 0.9902\n",
      "Epoch 112/200\n",
      "7/7 [==============================] - 1s 72ms/step - loss: 0.0108 - accuracy: 0.9976 - val_loss: 0.0611 - val_accuracy: 0.9902\n",
      "Epoch 113/200\n",
      "7/7 [==============================] - 1s 72ms/step - loss: 0.0106 - accuracy: 1.0000 - val_loss: 0.0610 - val_accuracy: 0.9902\n",
      "Epoch 114/200\n",
      "7/7 [==============================] - 0s 69ms/step - loss: 0.0069 - accuracy: 1.0000 - val_loss: 0.0611 - val_accuracy: 0.9902\n",
      "Epoch 115/200\n",
      "7/7 [==============================] - 1s 74ms/step - loss: 0.0129 - accuracy: 0.9951 - val_loss: 0.0612 - val_accuracy: 0.9902\n",
      "Epoch 116/200\n",
      "7/7 [==============================] - 1s 72ms/step - loss: 0.0139 - accuracy: 1.0000 - val_loss: 0.0614 - val_accuracy: 0.9902\n"
     ]
    },
    {
     "name": "stdout",
     "output_type": "stream",
     "text": [
      "Epoch 117/200\n",
      "7/7 [==============================] - 1s 71ms/step - loss: 0.0130 - accuracy: 0.9976 - val_loss: 0.0613 - val_accuracy: 0.9902\n",
      "Epoch 118/200\n",
      "7/7 [==============================] - 1s 72ms/step - loss: 0.0111 - accuracy: 0.9976 - val_loss: 0.0613 - val_accuracy: 0.9902\n",
      "Epoch 119/200\n",
      "7/7 [==============================] - 1s 73ms/step - loss: 0.0103 - accuracy: 0.9976 - val_loss: 0.0613 - val_accuracy: 0.9902\n",
      "Epoch 120/200\n",
      "7/7 [==============================] - 1s 73ms/step - loss: 0.0122 - accuracy: 1.0000 - val_loss: 0.0615 - val_accuracy: 0.9902\n",
      "Epoch 121/200\n",
      "7/7 [==============================] - 1s 72ms/step - loss: 0.0081 - accuracy: 1.0000 - val_loss: 0.0615 - val_accuracy: 0.9902\n",
      "Epoch 122/200\n",
      "7/7 [==============================] - 1s 72ms/step - loss: 0.0163 - accuracy: 0.9976 - val_loss: 0.0614 - val_accuracy: 0.9902\n",
      "Epoch 123/200\n",
      "7/7 [==============================] - 1s 76ms/step - loss: 0.0053 - accuracy: 1.0000 - val_loss: 0.0614 - val_accuracy: 0.9902\n",
      "Epoch 124/200\n",
      "7/7 [==============================] - 1s 71ms/step - loss: 0.0078 - accuracy: 1.0000 - val_loss: 0.0614 - val_accuracy: 0.9902\n",
      "Epoch 125/200\n",
      "7/7 [==============================] - 1s 71ms/step - loss: 0.0141 - accuracy: 0.9976 - val_loss: 0.0613 - val_accuracy: 0.9902\n",
      "Epoch 126/200\n",
      "7/7 [==============================] - 1s 77ms/step - loss: 0.0081 - accuracy: 1.0000 - val_loss: 0.0614 - val_accuracy: 0.9902\n",
      "Epoch 127/200\n",
      "7/7 [==============================] - 1s 74ms/step - loss: 0.0160 - accuracy: 0.9976 - val_loss: 0.0615 - val_accuracy: 0.9902\n",
      "Epoch 128/200\n",
      "7/7 [==============================] - 1s 72ms/step - loss: 0.0088 - accuracy: 1.0000 - val_loss: 0.0613 - val_accuracy: 0.9902\n",
      "Epoch 129/200\n",
      "7/7 [==============================] - 1s 71ms/step - loss: 0.0104 - accuracy: 1.0000 - val_loss: 0.0610 - val_accuracy: 0.9902\n",
      "Epoch 130/200\n",
      "7/7 [==============================] - 1s 73ms/step - loss: 0.0157 - accuracy: 0.9976 - val_loss: 0.0608 - val_accuracy: 0.9902\n",
      "Epoch 131/200\n",
      "7/7 [==============================] - 0s 70ms/step - loss: 0.0118 - accuracy: 1.0000 - val_loss: 0.0608 - val_accuracy: 0.9902\n",
      "Epoch 132/200\n",
      "7/7 [==============================] - 1s 71ms/step - loss: 0.0108 - accuracy: 0.9976 - val_loss: 0.0608 - val_accuracy: 0.9902\n",
      "Epoch 133/200\n",
      "7/7 [==============================] - 1s 72ms/step - loss: 0.0142 - accuracy: 0.9976 - val_loss: 0.0608 - val_accuracy: 0.9902\n",
      "Epoch 134/200\n",
      "7/7 [==============================] - 0s 69ms/step - loss: 0.0233 - accuracy: 0.9951 - val_loss: 0.0606 - val_accuracy: 0.9902\n",
      "Epoch 135/200\n",
      "7/7 [==============================] - 1s 73ms/step - loss: 0.0134 - accuracy: 1.0000 - val_loss: 0.0607 - val_accuracy: 0.9902\n",
      "Epoch 136/200\n",
      "7/7 [==============================] - 1s 74ms/step - loss: 0.0088 - accuracy: 1.0000 - val_loss: 0.0607 - val_accuracy: 0.9902\n",
      "Epoch 137/200\n",
      "7/7 [==============================] - 0s 69ms/step - loss: 0.0158 - accuracy: 0.9976 - val_loss: 0.0607 - val_accuracy: 0.9902\n",
      "Epoch 138/200\n",
      "7/7 [==============================] - 1s 72ms/step - loss: 0.0112 - accuracy: 1.0000 - val_loss: 0.0608 - val_accuracy: 0.9902\n",
      "Epoch 139/200\n",
      "7/7 [==============================] - 1s 76ms/step - loss: 0.0173 - accuracy: 0.9976 - val_loss: 0.0610 - val_accuracy: 0.9902\n",
      "Epoch 140/200\n",
      "7/7 [==============================] - 1s 77ms/step - loss: 0.0097 - accuracy: 1.0000 - val_loss: 0.0611 - val_accuracy: 0.9902\n",
      "Epoch 141/200\n",
      "7/7 [==============================] - 1s 71ms/step - loss: 0.0195 - accuracy: 0.9976 - val_loss: 0.0611 - val_accuracy: 0.9902\n",
      "Epoch 142/200\n",
      "7/7 [==============================] - 1s 71ms/step - loss: 0.0086 - accuracy: 0.9976 - val_loss: 0.0612 - val_accuracy: 0.9902\n",
      "Epoch 143/200\n",
      "7/7 [==============================] - 0s 71ms/step - loss: 0.0107 - accuracy: 0.9976 - val_loss: 0.0612 - val_accuracy: 0.9902\n",
      "Epoch 144/200\n",
      "7/7 [==============================] - 1s 78ms/step - loss: 0.0082 - accuracy: 1.0000 - val_loss: 0.0612 - val_accuracy: 0.9902\n",
      "Epoch 145/200\n",
      "7/7 [==============================] - 1s 79ms/step - loss: 0.0073 - accuracy: 1.0000 - val_loss: 0.0613 - val_accuracy: 0.9902\n",
      "Epoch 146/200\n",
      "7/7 [==============================] - 1s 77ms/step - loss: 0.0122 - accuracy: 0.9976 - val_loss: 0.0613 - val_accuracy: 0.9902\n",
      "Epoch 147/200\n",
      "7/7 [==============================] - 0s 69ms/step - loss: 0.0079 - accuracy: 1.0000 - val_loss: 0.0613 - val_accuracy: 0.9902\n",
      "Epoch 148/200\n",
      "7/7 [==============================] - 0s 69ms/step - loss: 0.0073 - accuracy: 1.0000 - val_loss: 0.0613 - val_accuracy: 0.9902\n",
      "Epoch 149/200\n",
      "7/7 [==============================] - 1s 74ms/step - loss: 0.0236 - accuracy: 0.9951 - val_loss: 0.0612 - val_accuracy: 0.9902\n",
      "Epoch 150/200\n",
      "7/7 [==============================] - 1s 71ms/step - loss: 0.0089 - accuracy: 1.0000 - val_loss: 0.0611 - val_accuracy: 0.9902\n",
      "Epoch 151/200\n",
      "7/7 [==============================] - 1s 73ms/step - loss: 0.0116 - accuracy: 0.9976 - val_loss: 0.0610 - val_accuracy: 0.9902\n",
      "Epoch 152/200\n",
      "7/7 [==============================] - 0s 69ms/step - loss: 0.0097 - accuracy: 1.0000 - val_loss: 0.0608 - val_accuracy: 0.9902\n",
      "Epoch 153/200\n",
      "7/7 [==============================] - 0s 70ms/step - loss: 0.0121 - accuracy: 0.9951 - val_loss: 0.0607 - val_accuracy: 0.9902\n",
      "Epoch 154/200\n",
      "7/7 [==============================] - 1s 71ms/step - loss: 0.0148 - accuracy: 0.9976 - val_loss: 0.0609 - val_accuracy: 0.9902\n",
      "Epoch 155/200\n",
      "7/7 [==============================] - 0s 70ms/step - loss: 0.0176 - accuracy: 0.9976 - val_loss: 0.0606 - val_accuracy: 0.9902\n",
      "Epoch 156/200\n",
      "7/7 [==============================] - 1s 73ms/step - loss: 0.0258 - accuracy: 0.9927 - val_loss: 0.0605 - val_accuracy: 0.9902\n",
      "Epoch 157/200\n",
      "7/7 [==============================] - 1s 79ms/step - loss: 0.0131 - accuracy: 0.9976 - val_loss: 0.0605 - val_accuracy: 0.9902\n",
      "Epoch 158/200\n",
      "7/7 [==============================] - 0s 70ms/step - loss: 0.0088 - accuracy: 1.0000 - val_loss: 0.0604 - val_accuracy: 0.9902\n",
      "Epoch 159/200\n",
      "7/7 [==============================] - 1s 72ms/step - loss: 0.0137 - accuracy: 1.0000 - val_loss: 0.0606 - val_accuracy: 0.9902\n",
      "Epoch 160/200\n",
      "7/7 [==============================] - 1s 72ms/step - loss: 0.0127 - accuracy: 0.9976 - val_loss: 0.0607 - val_accuracy: 0.9902\n",
      "Epoch 161/200\n",
      "7/7 [==============================] - 1s 82ms/step - loss: 0.0115 - accuracy: 1.0000 - val_loss: 0.0605 - val_accuracy: 0.9902\n",
      "Epoch 162/200\n",
      "7/7 [==============================] - 0s 69ms/step - loss: 0.0083 - accuracy: 1.0000 - val_loss: 0.0606 - val_accuracy: 0.9902\n",
      "Epoch 163/200\n",
      "7/7 [==============================] - 1s 73ms/step - loss: 0.0075 - accuracy: 0.9976 - val_loss: 0.0607 - val_accuracy: 0.9902\n",
      "Epoch 164/200\n",
      "7/7 [==============================] - 1s 79ms/step - loss: 0.0092 - accuracy: 1.0000 - val_loss: 0.0607 - val_accuracy: 0.9902\n",
      "Epoch 165/200\n",
      "7/7 [==============================] - 1s 72ms/step - loss: 0.0153 - accuracy: 0.9976 - val_loss: 0.0605 - val_accuracy: 0.9902\n",
      "Epoch 166/200\n",
      "7/7 [==============================] - 0s 71ms/step - loss: 0.0152 - accuracy: 1.0000 - val_loss: 0.0607 - val_accuracy: 0.9902\n",
      "Epoch 167/200\n",
      "7/7 [==============================] - 1s 73ms/step - loss: 0.0129 - accuracy: 0.9976 - val_loss: 0.0609 - val_accuracy: 0.9902\n",
      "Epoch 168/200\n",
      "7/7 [==============================] - 1s 73ms/step - loss: 0.0111 - accuracy: 1.0000 - val_loss: 0.0609 - val_accuracy: 0.9902\n",
      "Epoch 169/200\n",
      "7/7 [==============================] - 1s 71ms/step - loss: 0.0141 - accuracy: 1.0000 - val_loss: 0.0608 - val_accuracy: 0.9902\n",
      "Epoch 170/200\n",
      "7/7 [==============================] - 1s 76ms/step - loss: 0.0140 - accuracy: 0.9976 - val_loss: 0.0608 - val_accuracy: 0.9902\n",
      "Epoch 171/200\n",
      "7/7 [==============================] - 0s 70ms/step - loss: 0.0154 - accuracy: 0.9976 - val_loss: 0.0611 - val_accuracy: 0.9902\n",
      "Epoch 172/200\n",
      "7/7 [==============================] - 1s 70ms/step - loss: 0.0202 - accuracy: 0.9976 - val_loss: 0.0611 - val_accuracy: 0.9902\n",
      "Epoch 173/200\n",
      "7/7 [==============================] - 1s 72ms/step - loss: 0.0086 - accuracy: 1.0000 - val_loss: 0.0613 - val_accuracy: 0.9902\n",
      "Epoch 174/200\n",
      "7/7 [==============================] - 1s 71ms/step - loss: 0.0223 - accuracy: 0.9927 - val_loss: 0.0611 - val_accuracy: 0.9902\n"
     ]
    },
    {
     "name": "stdout",
     "output_type": "stream",
     "text": [
      "Epoch 175/200\n",
      "7/7 [==============================] - 1s 71ms/step - loss: 0.0075 - accuracy: 1.0000 - val_loss: 0.0611 - val_accuracy: 0.9902\n",
      "Epoch 176/200\n",
      "7/7 [==============================] - 1s 72ms/step - loss: 0.0120 - accuracy: 1.0000 - val_loss: 0.0609 - val_accuracy: 0.9902\n",
      "Epoch 177/200\n",
      "7/7 [==============================] - 1s 76ms/step - loss: 0.0119 - accuracy: 0.9976 - val_loss: 0.0609 - val_accuracy: 0.9902\n",
      "Epoch 178/200\n",
      "7/7 [==============================] - 1s 72ms/step - loss: 0.0077 - accuracy: 1.0000 - val_loss: 0.0608 - val_accuracy: 0.9902\n",
      "Epoch 179/200\n",
      "7/7 [==============================] - 0s 70ms/step - loss: 0.0198 - accuracy: 0.9951 - val_loss: 0.0610 - val_accuracy: 0.9902\n",
      "Epoch 180/200\n",
      "7/7 [==============================] - 0s 69ms/step - loss: 0.0077 - accuracy: 1.0000 - val_loss: 0.0610 - val_accuracy: 0.9902\n",
      "Epoch 181/200\n",
      "7/7 [==============================] - 0s 69ms/step - loss: 0.0227 - accuracy: 0.9951 - val_loss: 0.0608 - val_accuracy: 0.9902\n",
      "Epoch 182/200\n",
      "7/7 [==============================] - 0s 69ms/step - loss: 0.0198 - accuracy: 0.9951 - val_loss: 0.0608 - val_accuracy: 0.9902\n",
      "Epoch 183/200\n",
      "7/7 [==============================] - 0s 70ms/step - loss: 0.0128 - accuracy: 1.0000 - val_loss: 0.0606 - val_accuracy: 0.9902\n",
      "Epoch 184/200\n",
      "7/7 [==============================] - 1s 73ms/step - loss: 0.0161 - accuracy: 0.9976 - val_loss: 0.0608 - val_accuracy: 0.9902\n",
      "Epoch 185/200\n",
      "7/7 [==============================] - 1s 72ms/step - loss: 0.0095 - accuracy: 1.0000 - val_loss: 0.0608 - val_accuracy: 0.9902\n",
      "Epoch 186/200\n",
      "7/7 [==============================] - 0s 69ms/step - loss: 0.0104 - accuracy: 1.0000 - val_loss: 0.0607 - val_accuracy: 0.9902\n",
      "Epoch 187/200\n",
      "7/7 [==============================] - 0s 68ms/step - loss: 0.0142 - accuracy: 0.9976 - val_loss: 0.0606 - val_accuracy: 0.9902\n",
      "Epoch 188/200\n",
      "7/7 [==============================] - 0s 69ms/step - loss: 0.0235 - accuracy: 0.9903 - val_loss: 0.0607 - val_accuracy: 0.9902\n",
      "Epoch 189/200\n",
      "7/7 [==============================] - 0s 69ms/step - loss: 0.0094 - accuracy: 1.0000 - val_loss: 0.0606 - val_accuracy: 0.9902\n",
      "Epoch 190/200\n",
      "7/7 [==============================] - 0s 69ms/step - loss: 0.0094 - accuracy: 1.0000 - val_loss: 0.0607 - val_accuracy: 0.9902\n",
      "Epoch 191/200\n",
      "7/7 [==============================] - 0s 69ms/step - loss: 0.0110 - accuracy: 0.9976 - val_loss: 0.0608 - val_accuracy: 0.9902\n",
      "Epoch 192/200\n",
      "7/7 [==============================] - 0s 69ms/step - loss: 0.0134 - accuracy: 1.0000 - val_loss: 0.0612 - val_accuracy: 0.9902\n",
      "Epoch 193/200\n",
      "7/7 [==============================] - 1s 71ms/step - loss: 0.0080 - accuracy: 1.0000 - val_loss: 0.0611 - val_accuracy: 0.9902\n",
      "Epoch 194/200\n",
      "7/7 [==============================] - 0s 69ms/step - loss: 0.0076 - accuracy: 0.9976 - val_loss: 0.0611 - val_accuracy: 0.9902\n",
      "Epoch 195/200\n",
      "7/7 [==============================] - 1s 74ms/step - loss: 0.0162 - accuracy: 1.0000 - val_loss: 0.0612 - val_accuracy: 0.9902\n",
      "Epoch 196/200\n",
      "7/7 [==============================] - 1s 73ms/step - loss: 0.0068 - accuracy: 1.0000 - val_loss: 0.0612 - val_accuracy: 0.9902\n",
      "Epoch 197/200\n",
      "7/7 [==============================] - 1s 73ms/step - loss: 0.0117 - accuracy: 1.0000 - val_loss: 0.0610 - val_accuracy: 0.9902\n",
      "Epoch 198/200\n",
      "7/7 [==============================] - 1s 72ms/step - loss: 0.0090 - accuracy: 1.0000 - val_loss: 0.0613 - val_accuracy: 0.9902\n",
      "Epoch 199/200\n",
      "7/7 [==============================] - 1s 71ms/step - loss: 0.0137 - accuracy: 0.9976 - val_loss: 0.0611 - val_accuracy: 0.9902\n",
      "Epoch 200/200\n",
      "7/7 [==============================] - 1s 73ms/step - loss: 0.0088 - accuracy: 1.0000 - val_loss: 0.0612 - val_accuracy: 0.9902\n"
     ]
    }
   ],
   "source": [
    "history = model.fit(train_ds , epochs = 200 , validation_data=val_ds ,callbacks=[model_checkpoint_callback] )"
   ]
  },
  {
   "cell_type": "code",
   "execution_count": 16,
   "id": "6b48d6da",
   "metadata": {},
   "outputs": [
    {
     "name": "stdout",
     "output_type": "stream",
     "text": [
      "4/4 [==============================] - 0s 19ms/step - loss: 0.0612 - accuracy: 0.9902\n"
     ]
    },
    {
     "data": {
      "text/plain": [
       "[0.06115288287401199, 0.9901960492134094]"
      ]
     },
     "execution_count": 16,
     "metadata": {},
     "output_type": "execute_result"
    }
   ],
   "source": [
    "model.evaluate(val_ds)"
   ]
  },
  {
   "cell_type": "code",
   "execution_count": 17,
   "id": "c9ac6145",
   "metadata": {},
   "outputs": [],
   "source": [
    "test_data_dir = \"./data/test/\""
   ]
  },
  {
   "cell_type": "code",
   "execution_count": 18,
   "id": "98d3880b",
   "metadata": {},
   "outputs": [
    {
     "name": "stdout",
     "output_type": "stream",
     "text": [
      "Found 208 files belonging to 4 classes.\n"
     ]
    },
    {
     "name": "stderr",
     "output_type": "stream",
     "text": [
      "/home/ahmed/anaconda3/envs/tf/lib/python3.9/site-packages/tensorflow/python/data/ops/structured_function.py:264: UserWarning: Even though the `tf.config.experimental_run_functions_eagerly` option is set, this option does not apply to tf.data functions. To force eager execution of tf.data functions, please use `tf.data.experimental.enable_debug_mode()`.\n",
      "  warnings.warn(\n"
     ]
    }
   ],
   "source": [
    "test_ds = tf.keras.utils.image_dataset_from_directory(\n",
    "  test_data_dir,\n",
    "  seed=123,\n",
    "  image_size=IMAGE_SIZE,\n",
    "  batch_size=BATCH_SIZE)"
   ]
  },
  {
   "cell_type": "code",
   "execution_count": 19,
   "id": "61ca179f",
   "metadata": {},
   "outputs": [
    {
     "name": "stdout",
     "output_type": "stream",
     "text": [
      "4/4 [==============================] - 0s 25ms/step - loss: 0.1425 - accuracy: 0.9712\n"
     ]
    },
    {
     "data": {
      "text/plain": [
       "[0.14250850677490234, 0.9711538553237915]"
      ]
     },
     "execution_count": 19,
     "metadata": {},
     "output_type": "execute_result"
    }
   ],
   "source": [
    "model.evaluate(test_ds)"
   ]
  },
  {
   "cell_type": "code",
   "execution_count": 20,
   "id": "716444a8",
   "metadata": {},
   "outputs": [
    {
     "data": {
      "image/png": "[encoded data removed]",
      "text/plain": [
       "<Figure size 800x800 with 2 Axes>"
      ]
     },
     "metadata": {},
     "output_type": "display_data"
    }
   ],
   "source": [
    "acc = history.history['accuracy']\n",
    "val_acc = history.history['val_accuracy']\n",
    "\n",
    "loss = history.history['loss']\n",
    "val_loss = history.history['val_loss']\n",
    "\n",
    "epochs_range = range(200)\n",
    "\n",
    "plt.figure(figsize=(8, 8))\n",
    "plt.subplot(1, 2, 1)\n",
    "plt.plot(epochs_range, acc, label='Training Accuracy')\n",
    "plt.plot(epochs_range, val_acc, label='Validation Accuracy')\n",
    "plt.legend(loc='lower right')\n",
    "plt.title('Training and Validation Accuracy')\n",
    "\n",
    "plt.subplot(1, 2, 2)\n",
    "plt.plot(epochs_range, loss, label='Training Loss')\n",
    "plt.plot(epochs_range, val_loss, label='Validation Loss')\n",
    "plt.legend(loc='upper right')\n",
    "plt.title('Training and Validation Loss')\n",
    "plt.show()\n"
   ]
  },
  {
   "cell_type": "code",
   "execution_count": 22,
   "id": "8fc685d5",
   "metadata": {},
   "outputs": [
    {
     "name": "stdout",
     "output_type": "stream",
     "text": [
      "4/4 [==============================] - 0s 13ms/step\n"
     ]
    }
   ],
   "source": [
    "prediction = tf.argmax(model.predict(val_ds),axis=1)"
   ]
  },
  {
   "cell_type": "code",
   "execution_count": 23,
   "id": "0192be6b",
   "metadata": {},
   "outputs": [
    {
     "name": "stdout",
     "output_type": "stream",
     "text": [
      "tf.Tensor(\n",
      "[1 2 0 3 0 3 3 0 2 1 2 3 0 1 2 1 1 1 0 3 0 1 0 3 3 2 1 2 3 0 2 0 3 2 1 3 2\n",
      " 3 0 1 1 3 0 0 1 0 1 3 0 2 0 3 1 2 2 0 2 3 3 2 2 1 1 0 2 3 0 0 0 0 1 2 3 3\n",
      " 3 3 2 0 1 2 2 0 2 1 2 1 0 1 1 2 0 0 2 2 1 2 3 3 3 0 2 1 1 2 0 0 3 3 1 3 1\n",
      " 1 1 2 3 2 0 0 3 2 1 0 0 2 0 2 1 2 2 2 1 2 0 2 0 3 1 1 2 1 3 1 3 0 3 2 2 1\n",
      " 1 0 0 2 1 1 0 3 3 3 3 2 2 0 1 1 3 3 0 2 1 3 2 2 3 3 1 0 1 2 3 0 1 0 0 0 2\n",
      " 1 3 3 2 0 2 1 3 0 3 0 1 1 1 3 1 0 3 3], shape=(204,), dtype=int64)\n"
     ]
    }
   ],
   "source": [
    "print(prediction)"
   ]
  },
  {
   "cell_type": "code",
   "execution_count": 24,
   "id": "75effef5",
   "metadata": {},
   "outputs": [
    {
     "name": "stdout",
     "output_type": "stream",
     "text": [
      "<function DatasetV2.list_files at 0x7f3654168f70>\n"
     ]
    }
   ],
   "source": [
    "print(val_ds.list_files)"
   ]
  },
  {
   "cell_type": "code",
   "execution_count": null,
   "id": "94f29336",
   "metadata": {},
   "outputs": [],
   "source": [
    "import numpy as np"
   ]
  },
  {
   "cell_type": "code",
   "execution_count": null,
   "id": "b1e7d820",
   "metadata": {},
   "outputs": [],
   "source": [
    "pred = np.array(prediction)"
   ]
  },
  {
   "cell_type": "code",
   "execution_count": null,
   "id": "cf5d8059",
   "metadata": {},
   "outputs": [],
   "source": [
    "labels = np.array(validation_data.data_format)"
   ]
  },
  {
   "cell_type": "code",
   "execution_count": null,
   "id": "ddee2130",
   "metadata": {},
   "outputs": [],
   "source": [
    "test_data.labels"
   ]
  },
  {
   "cell_type": "code",
   "execution_count": null,
   "id": "d3884e63",
   "metadata": {},
   "outputs": [],
   "source": [
    "pred"
   ]
  },
  {
   "cell_type": "code",
   "execution_count": null,
   "id": "81e1f5c3",
   "metadata": {},
   "outputs": [],
   "source": [
    "image , label = next(validation_data)"
   ]
  },
  {
   "cell_type": "code",
   "execution_count": null,
   "id": "577145d3",
   "metadata": {},
   "outputs": [],
   "source": [
    "label"
   ]
  },
  {
   "cell_type": "code",
   "execution_count": null,
   "id": "b942252a",
   "metadata": {},
   "outputs": [],
   "source": []
  }
 ],
 "metadata": {
  "kernelspec": {
   "display_name": "Python 3 (ipykernel)",
   "language": "python",
   "name": "python3"
  },
  "language_info": {
   "codemirror_mode": {
    "name": "ipython",
    "version": 3
   },
   "file_extension": ".py",
   "mimetype": "text/x-python",
   "name": "python",
   "nbconvert_exporter": "python",
   "pygments_lexer": "ipython3",
   "version": "3.9.0"
  }
 },
 "nbformat": 4,
 "nbformat_minor": 5
}
