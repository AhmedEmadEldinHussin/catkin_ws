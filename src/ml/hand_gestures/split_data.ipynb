{
 "cells": [
  {
   "cell_type": "code",
   "execution_count": 1,
   "id": "e72587cf",
   "metadata": {},
   "outputs": [],
   "source": [
    "import os"
   ]
  },
  {
   "cell_type": "code",
   "execution_count": 2,
   "id": "7124b5ad",
   "metadata": {},
   "outputs": [],
   "source": [
    "dataset = \"./dataset/\""
   ]
  },
  {
   "cell_type": "code",
   "execution_count": 3,
   "id": "a8035d45",
   "metadata": {},
   "outputs": [],
   "source": [
    "os.makedirs(\"./data/\")\n",
    "os.makedirs(\"./data/train\")\n",
    "os.makedirs(\"./data/val\")\n",
    "os.makedirs(\"./data/test\")"
   ]
  },
  {
   "cell_type": "code",
   "execution_count": 4,
   "id": "a77029bb",
   "metadata": {},
   "outputs": [],
   "source": [
    "for i in range(4):\n",
    "    os.makedirs(\"./data/train/\"+str(i))\n",
    "    os.makedirs(\"./data/val/\"+str(i))\n",
    "    os.makedirs(\"./data/test/\"+str(i))"
   ]
  },
  {
   "cell_type": "code",
   "execution_count": 5,
   "id": "695e1ebc",
   "metadata": {},
   "outputs": [],
   "source": [
    "cls0 = os.listdir(\"dataset/0\")\n",
    "cls1 = os.listdir(\"dataset/1\")\n",
    "cls2 = os.listdir(\"dataset/2\")\n",
    "cls3 = os.listdir(\"dataset/3\")"
   ]
  },
  {
   "cell_type": "code",
   "execution_count": 6,
   "id": "5f4e1ba0",
   "metadata": {},
   "outputs": [],
   "source": [
    "from sklearn.model_selection import train_test_split"
   ]
  },
  {
   "cell_type": "code",
   "execution_count": 7,
   "id": "eeb28047",
   "metadata": {},
   "outputs": [],
   "source": [
    "import shutil"
   ]
  },
  {
   "cell_type": "code",
   "execution_count": 8,
   "id": "c2851127",
   "metadata": {},
   "outputs": [],
   "source": [
    "train , val = train_test_split(cls0,test_size=0.5,random_state=0)\n",
    "val , test = train_test_split(val,test_size=0.5,random_state=0)\n",
    "for file in train:\n",
    "    shutil.copy(\"./dataset/0/\"+str(file),\"data/train/0/\")\n",
    "\n",
    "for file in val:\n",
    "    shutil.copy(\"./dataset/0/\"+str(file),\"data/val/0/\")\n",
    "\n",
    "for file in test:\n",
    "    shutil.copy(\"./dataset/0/\"+str(file),\"data/test/0/\")"
   ]
  },
  {
   "cell_type": "code",
   "execution_count": 9,
   "id": "81d2abcb",
   "metadata": {},
   "outputs": [],
   "source": [
    "train , val = train_test_split(cls1,test_size=0.5,random_state=0)\n",
    "val , test = train_test_split(val,test_size=0.5,random_state=0)\n",
    "for file in train:\n",
    "    shutil.copy(\"./dataset/1/\"+str(file),\"data/train/1/\")\n",
    "\n",
    "for file in val:\n",
    "    shutil.copy(\"./dataset/1/\"+str(file),\"data/val/1/\")\n",
    "\n",
    "for file in test:\n",
    "    shutil.copy(\"./dataset/1/\"+str(file),\"data/test/1/\")"
   ]
  },
  {
   "cell_type": "code",
   "execution_count": 10,
   "id": "40814ccd",
   "metadata": {},
   "outputs": [],
   "source": [
    "train , val = train_test_split(cls2,test_size=0.5,random_state=0)\n",
    "val , test = train_test_split(val,test_size=0.5,random_state=0)\n",
    "for file in train:\n",
    "    shutil.copy(\"./dataset/2/\"+str(file),\"data/train/2/\")\n",
    "\n",
    "for file in val:\n",
    "    shutil.copy(\"./dataset/2/\"+str(file),\"data/val/2/\")\n",
    "\n",
    "for file in test:\n",
    "    shutil.copy(\"./dataset/2/\"+str(file),\"data/test/2/\")"
   ]
  },
  {
   "cell_type": "code",
   "execution_count": 11,
   "id": "3a0fd436",
   "metadata": {},
   "outputs": [],
   "source": [
    "train , val = train_test_split(cls3,test_size=0.5,random_state=0)\n",
    "val , test = train_test_split(val,test_size=0.5,random_state=0)\n",
    "for file in train:\n",
    "    shutil.copy(\"./dataset/3/\"+str(file),\"data/train/3/\")\n",
    "\n",
    "for file in val:\n",
    "    shutil.copy(\"./dataset/3/\"+str(file),\"data/val/3/\")\n",
    "\n",
    "for file in test:\n",
    "    shutil.copy(\"./dataset/3/\"+str(file),\"data/test/3/\")"
   ]
  },
  {
   "cell_type": "code",
   "execution_count": null,
   "id": "e62e3deb",
   "metadata": {},
   "outputs": [],
   "source": []
  },
  {
   "cell_type": "code",
   "execution_count": null,
   "id": "7944db99",
   "metadata": {},
   "outputs": [],
   "source": []
  },
  {
   "cell_type": "code",
   "execution_count": null,
   "id": "f0d40759",
   "metadata": {},
   "outputs": [],
   "source": []
  }
 ],
 "metadata": {
  "kernelspec": {
   "display_name": "Python 3 (ipykernel)",
   "language": "python",
   "name": "python3"
  },
  "language_info": {
   "codemirror_mode": {
    "name": "ipython",
    "version": 3
   },
   "file_extension": ".py",
   "mimetype": "text/x-python",
   "name": "python",
   "nbconvert_exporter": "python",
   "pygments_lexer": "ipython3",
   "version": "3.10.6"
  }
 },
 "nbformat": 4,
 "nbformat_minor": 5
}
